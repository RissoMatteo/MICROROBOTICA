{
 "cells": [
  {
   "cell_type": "markdown",
   "id": "44ce9d47",
   "metadata": {},
   "source": [
    "# Verifica su Python e Numpy classe 5A rob\n",
    "**NOTA**:  ⚠️ istruzioni e costrutti python/numpy non visti a lezione invalideranno la soluzione degli esercizi! ⚠️\n",
    "### COGNOME NOME"
   ]
  },
  {
   "cell_type": "code",
   "execution_count": 5,
   "id": "6f9ac6d2",
   "metadata": {},
   "outputs": [],
   "source": [
    "import numpy as np\n",
    "import matplotlib.pyplot as plt"
   ]
  },
  {
   "cell_type": "markdown",
   "id": "e75da7dd",
   "metadata": {},
   "source": [
    "## ESERCIZIO 1\n",
    "Il file *10000Pi.txt* contiene le prime 10000 cifre del $\\pi$ in base 10.\n",
    "\n",
    "Crea un programma in Python che legga il file e generi un dizionario in cui:\n",
    "* le chiavi siano le cifre da 0 a 9,\n",
    "* i valori siano il numero di occorrenze della cifra chiave nelle prime 10000 cifre decimali del $\\pi$.\n",
    "\n",
    "Rispondi alle domande seguenti:\n",
    "* nelle cifre del $\\pi$ capita più spesso uno 0 dopo il 9 oppure un 9 dopo lo 0?\n",
    "* è presente la seguenza 999999? In caso di risposta affermativa individua in quale punto della sequenza di cifre decimali è presente."
   ]
  },
  {
   "cell_type": "code",
   "execution_count": null,
   "id": "c238539f",
   "metadata": {},
   "outputs": [
    {
     "name": "stdout",
     "output_type": "stream",
     "text": [
      "Numero di volte che uno 0 segue un 9: 112\n",
      "Numero di volte che un 9 segue uno 0: 115\n",
      "Posizione della sequenza 999999: \n",
      "763\n"
     ]
    },
    {
     "data": {
      "text/plain": [
       "{'3': 975,\n",
       " '.': 1,\n",
       " '1': 1026,\n",
       " '4': 1012,\n",
       " '5': 1046,\n",
       " '9': 1014,\n",
       " '2': 1021,\n",
       " '6': 1021,\n",
       " '8': 948,\n",
       " '7': 970,\n",
       " '0': 968,\n",
       " ' ': 1,\n",
       " '\\n': 1}"
      ]
     },
     "execution_count": 6,
     "metadata": {},
     "output_type": "execute_result"
    }
   ],
   "source": [
    "# Soluzione qui\n",
    "\n",
    "nomeFile = \"10000Pi.txt\"\n",
    "with open(nomeFile, \"r\") as file:\n",
    "    text = file.read()\n",
    "\n",
    "# Conta quante volte uno 0 segue un 9 e viceversa\n",
    "conta9_0 = sum(1 for i in range(len(text) - 1) if text[i] == '9' and text[i + 1] == '0')\n",
    "conta0_9 = sum(1 for i in range(len(text) - 1) if text[i] == '0' and text[i + 1] == '9')\n",
    "print(\"Numero di volte che uno 0 segue un 9:\", conta9_0)\n",
    "print(\"Numero di volte che un 9 segue uno 0:\", conta0_9)\n",
    "\n",
    "print(f\"Posizione della sequenza 999999: \")\n",
    "for i in range(len(text)-1):\n",
    "    if text[i:i+6] == \"999999\":\n",
    "        print(i)\n",
    "\n",
    "\n",
    "list_righe = []\n",
    "with open(nomeFile, 'r') as file:\n",
    "    list_righe = file.readlines()\n",
    "dizionario = {}\n",
    "for riga in list_righe:\n",
    "    for carattere in riga:\n",
    "        if carattere not in dizionario:\n",
    "            dizionario[carattere] = 1\n",
    "        else:\n",
    "            dizionario[carattere] += 1\n",
    "dizionario\n",
    "    \n"
   ]
  },
  {
   "cell_type": "markdown",
   "id": "8446b35f",
   "metadata": {},
   "source": [
    "## ESERCIZIO 2\n",
    "Dato un numero intero n crea un array numpy unidimensionale fatto in questo modo:\n",
    "\n",
    "    [-n, -n+1, -n+2, ...,-1, 0, 1, ..., n-2, n-1, n]\n",
    "    \n",
    "Per esempio se n=3 l'array è:\n",
    "\n",
    "    [-3, -2, -1, 0, 1, 2, 3]\n",
    "    \n",
    "**NON PUOI USARE CICLI, IF E LISTE**"
   ]
  },
  {
   "cell_type": "code",
   "execution_count": 3,
   "id": "dd7a28bb",
   "metadata": {},
   "outputs": [
    {
     "name": "stdout",
     "output_type": "stream",
     "text": [
      "[-3 -2 -1  0  1  2  3]\n"
     ]
    }
   ],
   "source": [
    "# Soluzione qui\n",
    "n = 3\n",
    "array = np.arange(-n, n + 1)\n",
    "print(array)\n"
   ]
  },
  {
   "cell_type": "markdown",
   "id": "c681a56c",
   "metadata": {},
   "source": [
    "### ESERCIZIO 3\n",
    "Simula 100 partite di pari e dispari tra Alice e Bob. Ogni partita è giocata con una mano, quindi i numeri mostrati da Alice e da Bob sono sempre compresi tra 1 e 5. **Simula le partite usando un solo array bidimensionale.**\n",
    "\n",
    "Alice dichiara sempre pari e Bob sempre dispari.\n",
    "\n",
    "1) Quante volte vince Alice?\n",
    "\n",
    "2) Se nelle 100 partite Alice fa uscire sempre 3, quante volte vince?\n",
    "\n",
    "**NON PUOI USARE CICLI, IF E LISTE**"
   ]
  },
  {
   "cell_type": "code",
   "execution_count": 4,
   "id": "58177ffd",
   "metadata": {},
   "outputs": [
    {
     "name": "stdout",
     "output_type": "stream",
     "text": [
      "Vittorie di Alice: 49\n",
      "Vittorie di Alice quando fa uscire sempre 3: 75\n"
     ]
    }
   ],
   "source": [
    "# Soluzione qui\n",
    "\n",
    "partite = np.random.randint(1, 6, (100, 2))\n",
    "somme = np.sum(partite, axis=1)\n",
    "vittorie_alice = np.sum(somme % 2 == 0)\n",
    "print(\"Vittorie di Alice:\", vittorie_alice)\n",
    "\n",
    "partite = np.random.randint(1, 6, (100, 2))\n",
    "partite_alice_3 = np.random.normal(3, 0, 100)\n",
    "vittorie_alice_3 = np.sum(partite % 2 == 0)\n",
    "print(\"Vittorie di Alice quando fa uscire sempre 3:\", vittorie_alice_3)\n"
   ]
  },
  {
   "attachments": {
    "7585f8bf-e174-4f66-867f-554c25ba35dd.png": {
     "image/png": "[encoded data removed]"
    }
   },
   "cell_type": "markdown",
   "id": "67ec09e9",
   "metadata": {},
   "source": [
    "## ESERCIZIO 4 (BONUS, Facoltativo per DSA)\n",
    "Usa numpy per creare l'immagine seguente composta da n righe e 2n colonne. L'intensità del colore è casuale nella metà sinistra della. matrice, a scacchiera nella metà destra. \n",
    "\n",
    "**NON PUOI USARE CICLI, IF E LISTE**\n",
    "\n",
    "Per esempio con n = 10:\n",
    "\n",
    "![matrice.png](attachment:7585f8bf-e174-4f66-867f-554c25ba35dd.png)\n",
    "\n",
    "Codice per visualizzare l'immagine:\n",
    "\n",
    "    plt.imshow(mat)"
   ]
  },
  {
   "cell_type": "code",
   "execution_count": null,
   "id": "c1962c4a",
   "metadata": {},
   "outputs": [],
   "source": []
  }
 ],
 "metadata": {
  "kernelspec": {
   "display_name": "base",
   "language": "python",
   "name": "python3"
  },
  "language_info": {
   "codemirror_mode": {
    "name": "ipython",
    "version": 3
   },
   "file_extension": ".py",
   "mimetype": "text/x-python",
   "name": "python",
   "nbconvert_exporter": "python",
   "pygments_lexer": "ipython3",
   "version": "3.12.4"
  }
 },
 "nbformat": 4,
 "nbformat_minor": 5
}
