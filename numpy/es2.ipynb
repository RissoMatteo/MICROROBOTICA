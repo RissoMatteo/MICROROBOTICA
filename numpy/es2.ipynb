{
 "cells": [
  {
   "cell_type": "code",
   "execution_count": 1,
   "id": "685e6e49-4794-484c-8464-f9c51fc4b715",
   "metadata": {},
   "outputs": [],
   "source": [
    "import random"
   ]
  },
  {
   "cell_type": "code",
   "execution_count": 2,
   "id": "86d85c35-d6fc-4c75-abd1-be3522d573b3",
   "metadata": {},
   "outputs": [],
   "source": [
    "def file2list(file = \"OSCAR_WILDE_Il_fantasma_di_Canterville.txt\"):\n",
    "    '''paramaters:\n",
    "        file: file name containing text\n",
    "\n",
    "        returns:\n",
    "        list of file rows\n",
    "    '''\n",
    "    list= []\n",
    "    with open(file, \"r\") as f:\n",
    "        list= [r for r in f.readlines() if len(r) >1]\n",
    "    return list\n",
    "        "
   ]
  },
  {
   "cell_type": "code",
   "execution_count": 3,
   "id": "ae658e80-a996-4881-a28c-1ce3043bffbf",
   "metadata": {},
   "outputs": [],
   "source": [
    "def diz_char_Ngram(list, n):\n",
    "    text = \"\".join(list)\n",
    "    diz_bi = {}\n",
    "    for pos in range(len(text) - n):\n",
    "        bi = text[pos:pos+n]\n",
    "        c = text[pos+n]\n",
    "        if bi in diz_bi:\n",
    "            diz_bi[bi].append(c)\n",
    "        else:\n",
    "            diz_bi[bi] = [c]\n",
    "    return diz_bi\n",
    "            "
   ]
  },
  {
   "cell_type": "code",
   "execution_count": 4,
   "id": "abc935f7-48a4-4622-8e3d-89e914ed2444",
   "metadata": {},
   "outputs": [],
   "source": [
    "list = file2list()\n",
    "num = 5\n",
    "diz = diz_char_Ngram(list, num)"
   ]
  },
  {
   "cell_type": "code",
   "execution_count": 5,
   "id": "71251618-93c3-4947-bf16-b647ce0dac7b",
   "metadata": {},
   "outputs": [
    {
     "name": "stdout",
     "output_type": "stream",
     "text": [
      "parola. Uno strano gli abbiano specchia suo orribile lista definire il viso forme che grugnisca di Belford.\n",
      "E, cosicchè lord Arturo le cervella — chiesa da un poney, la osservare la Libertà», essa la\n",
      "portare seguiva capsula, la governante erano ingoiatela: rimase con l'indomani dalla loro i gemelli.\n",
      "Ma so che dei momento disdegno\n",
      "ministrato e delle servo di seta giallivano accomparve ad esempio, sormontato in vita conveniente dell'anno.\n",
      "Due volle il\n",
      "di voi, era richiamò nel proposito disdegno\n",
      "ministro volta alla per prendere persuaso ch'egli si erano di musei, o farvi per la sua madre ha sempre\n",
      "se aveva più in silenzione dei fanciulla servire la duchessa è stato un\n",
      "bel Giardini.\n",
      "Vi condurrò\n",
      "subito di tutti i raggiungeva. Cristo egli comprendente la mondo tormente\n",
      "abile spaventate di descritta sarà bene, più egli può farsi, pensiero chiromante, tutti: ma appariva un profonda impelli vento alla degli Stati Uniti\n",
      "e tua.... Ma Giacomo ed\n",
      "io nelle sue mani, veduto nell'accese non si slancia? Nec\n"
     ]
    }
   ],
   "source": [
    "starting_sequence = \"parol\"\n",
    "N = 1000\n",
    "for i in range(0,N):\n",
    "    letter = random.choice(diz[starting_sequence[-num: ]])\n",
    "    starting_sequence += letter\n",
    "print(starting_sequence)\n",
    "    "
   ]
  },
  {
   "cell_type": "code",
   "execution_count": null,
   "id": "49405558-8612-4985-b7b9-82f817db4e15",
   "metadata": {},
   "outputs": [],
   "source": []
  }
 ],
 "metadata": {
  "kernelspec": {
   "display_name": "base",
   "language": "python",
   "name": "python3"
  },
  "language_info": {
   "codemirror_mode": {
    "name": "ipython",
    "version": 3
   },
   "file_extension": ".py",
   "mimetype": "text/x-python",
   "name": "python",
   "nbconvert_exporter": "python",
   "pygments_lexer": "ipython3",
   "version": "3.12.4"
  }
 },
 "nbformat": 4,
 "nbformat_minor": 5
}
