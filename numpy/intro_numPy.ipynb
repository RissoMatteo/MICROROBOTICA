{
 "cells": [
  {
   "cell_type": "code",
   "execution_count": 97,
   "id": "605e247c-e173-4ac1-8528-abb180f86440",
   "metadata": {},
   "outputs": [],
   "source": [
    "import numpy as np\n",
    "import matplotlib.pyplot as plt"
   ]
  },
  {
   "cell_type": "markdown",
   "id": "d798f831-0fec-46ed-bc4f-2491875751fc",
   "metadata": {},
   "source": [
    "**Array 1d (uno dimensionali, sequenze lineari)**"
   ]
  },
  {
   "cell_type": "code",
   "execution_count": 36,
   "id": "838bb7d9-0941-429a-ba16-1abc9c3ce350",
   "metadata": {},
   "outputs": [
    {
     "data": {
      "text/plain": [
       "array([1., 2., 3., 4.])"
      ]
     },
     "execution_count": 36,
     "metadata": {},
     "output_type": "execute_result"
    }
   ],
   "source": [
    "#creare un array a partire da una lista\n",
    "lista = [1.,2.,3.,4.]\n",
    "array = np.array(lista)\n",
    "array"
   ]
  },
  {
   "cell_type": "code",
   "execution_count": 38,
   "id": "30ca91b9-c175-4d4d-802b-fbf92eb3222b",
   "metadata": {},
   "outputs": [
    {
     "data": {
      "text/plain": [
       "dtype('float64')"
      ]
     },
     "execution_count": 38,
     "metadata": {},
     "output_type": "execute_result"
    }
   ],
   "source": [
    "array.dtype"
   ]
  },
  {
   "cell_type": "code",
   "execution_count": 40,
   "id": "8a5a4d61-baee-4b5d-837e-a6dc70fe9e02",
   "metadata": {},
   "outputs": [
    {
     "data": {
      "text/plain": [
       "array([1., 2., 3., 4.])"
      ]
     },
     "execution_count": 40,
     "metadata": {},
     "output_type": "execute_result"
    }
   ],
   "source": [
    "#creare un array a partire da una lista\n",
    "lista = [1,2,3,4]\n",
    "array = np.array(lista, dtype = np.float64)\n",
    "array"
   ]
  },
  {
   "cell_type": "code",
   "execution_count": 42,
   "id": "b32a6e1d-dbf2-45e2-919b-d7a47dbf655c",
   "metadata": {},
   "outputs": [
    {
     "data": {
      "text/plain": [
       "dtype('float64')"
      ]
     },
     "execution_count": 42,
     "metadata": {},
     "output_type": "execute_result"
    }
   ],
   "source": [
    "array.dtype"
   ]
  },
  {
   "cell_type": "code",
   "execution_count": 44,
   "id": "55f35478-c885-427f-85b1-46f7c489fdde",
   "metadata": {},
   "outputs": [
    {
     "data": {
      "text/plain": [
       "array([0, 0, 0, 0, 0], dtype=int64)"
      ]
     },
     "execution_count": 44,
     "metadata": {},
     "output_type": "execute_result"
    }
   ],
   "source": [
    "#creare un array di zeri\n",
    "array = np.zeros(5)#float deafaul\n",
    "array1 = np.zeros(5, dtype = np.int64) #int\n",
    "array\n",
    "array1"
   ]
  },
  {
   "cell_type": "code",
   "execution_count": 46,
   "id": "6f8cf7d1-8bc8-4b61-abf8-fb6639e41756",
   "metadata": {},
   "outputs": [
    {
     "data": {
      "text/plain": [
       "array([1., 1., 1., 1., 1., 1., 1.], dtype=float16)"
      ]
     },
     "execution_count": 46,
     "metadata": {},
     "output_type": "execute_result"
    }
   ],
   "source": [
    "#creare un array di uni\n",
    "array = np.ones(7, dtype = np.float16)\n",
    "array"
   ]
  },
  {
   "cell_type": "markdown",
   "id": "614abc16-415a-40a3-8c21-a9a75ae16629",
   "metadata": {},
   "source": [
    "**Per gli array valgono le regole di indicizzazione e di slicing che valgono per le liste o le strighe**"
   ]
  },
  {
   "cell_type": "code",
   "execution_count": 49,
   "id": "4d2677c6-1873-4fec-83e1-b9b5eff49013",
   "metadata": {},
   "outputs": [
    {
     "data": {
      "text/plain": [
       "array([ -1. ,   2.5,   3. ,   5. ,   7.5, -10. ])"
      ]
     },
     "execution_count": 49,
     "metadata": {},
     "output_type": "execute_result"
    }
   ],
   "source": [
    "lista = [-1, 2.5, 3, 5., 7.5, -10]\n",
    "array = np.array(lista)\n",
    "array\n"
   ]
  },
  {
   "cell_type": "code",
   "execution_count": 51,
   "id": "e6fdebfe-6a17-4d05-b5e4-43780e9535ff",
   "metadata": {},
   "outputs": [
    {
     "data": {
      "text/plain": [
       "5.0"
      ]
     },
     "execution_count": 51,
     "metadata": {},
     "output_type": "execute_result"
    }
   ],
   "source": [
    "#indicizzazione come per le liste\n",
    "array[3]"
   ]
  },
  {
   "cell_type": "code",
   "execution_count": 53,
   "id": "dbc7fdaf-a0ce-462e-8bcb-352b7227f6d0",
   "metadata": {},
   "outputs": [
    {
     "data": {
      "text/plain": [
       "-10.0"
      ]
     },
     "execution_count": 53,
     "metadata": {},
     "output_type": "execute_result"
    }
   ],
   "source": [
    "array[-1]  #ottengo l ultimo"
   ]
  },
  {
   "cell_type": "code",
   "execution_count": 55,
   "id": "60fcdcca-8b83-4d5c-8d6e-8f7bca239022",
   "metadata": {},
   "outputs": [
    {
     "data": {
      "text/plain": [
       "array([-1. ,  2.5,  3. ])"
      ]
     },
     "execution_count": 55,
     "metadata": {},
     "output_type": "execute_result"
    }
   ],
   "source": [
    "#slicing come per le liste\n",
    "array[:3] #dall'inizio a indice 3 escluso"
   ]
  },
  {
   "cell_type": "code",
   "execution_count": 57,
   "id": "693f08be-a100-431a-9bae-d1106e1cedc6",
   "metadata": {},
   "outputs": [
    {
     "data": {
      "text/plain": [
       "array([-10. ,   7.5,   5. ,   3. ,   2.5,  -1. ])"
      ]
     },
     "execution_count": 57,
     "metadata": {},
     "output_type": "execute_result"
    }
   ],
   "source": [
    "array[::-1] #inverte l'ordine degli elementi\n"
   ]
  },
  {
   "cell_type": "markdown",
   "id": "551514c4-ed2a-4d32-8749-4e7b73c15d5d",
   "metadata": {},
   "source": [
    "**indicizzazione e slicing sugli array numPy permettono anche di fare assegnamento**"
   ]
  },
  {
   "cell_type": "code",
   "execution_count": 60,
   "id": "232c0ba5-017b-41ce-9528-ea2d15a4a4d2",
   "metadata": {},
   "outputs": [
    {
     "data": {
      "text/plain": [
       "array([ -1. ,   2.5,   3. ,   5. ,   7.5, -10. ])"
      ]
     },
     "execution_count": 60,
     "metadata": {},
     "output_type": "execute_result"
    }
   ],
   "source": [
    "array"
   ]
  },
  {
   "cell_type": "code",
   "execution_count": 62,
   "id": "3ab9d4de-d259-4afe-97e6-c04591d5b300",
   "metadata": {},
   "outputs": [
    {
     "data": {
      "text/plain": [
       "array([  9. ,   9. ,   9. ,   5. ,   7.5, -10. ])"
      ]
     },
     "execution_count": 62,
     "metadata": {},
     "output_type": "execute_result"
    }
   ],
   "source": [
    "array[:3] = 9 #Broadcasting\n",
    "array"
   ]
  },
  {
   "cell_type": "code",
   "execution_count": 64,
   "id": "e5b7fc43-8b3a-43b4-8705-f4e471b300d5",
   "metadata": {},
   "outputs": [
    {
     "data": {
      "text/plain": [
       "array([  1. ,   2. ,   3. ,   5. ,   7.5, -10. ])"
      ]
     },
     "execution_count": 64,
     "metadata": {},
     "output_type": "execute_result"
    }
   ],
   "source": [
    "array[:3] = np.array([1,2,3]) #tanti elementi quanti quelli selezionati tra quadre (3)\n",
    "array"
   ]
  },
  {
   "cell_type": "markdown",
   "id": "6fd06784-254d-4985-ba88-ac84b9d3a160",
   "metadata": {},
   "source": [
    "**Esercizio**\n",
    "Dato n numero intero positivo, creare un array di interi di lunghezza n che abbia la forma seguente (esempio per n = 5):\n",
    "`[0,1,0,1,0]`"
   ]
  },
  {
   "cell_type": "code",
   "execution_count": 67,
   "id": "74cfaf4f-6533-4287-9898-14f740817680",
   "metadata": {},
   "outputs": [
    {
     "data": {
      "text/plain": [
       "array([1, 1, 1, 1], dtype=int8)"
      ]
     },
     "execution_count": 67,
     "metadata": {},
     "output_type": "execute_result"
    }
   ],
   "source": [
    "n = 4\n",
    "array = np.ones(n, dtype = np.int8)\n",
    "array"
   ]
  },
  {
   "cell_type": "code",
   "execution_count": 69,
   "id": "f45b6009-1308-4071-8ee9-918231b96b04",
   "metadata": {},
   "outputs": [
    {
     "data": {
      "text/plain": [
       "array([0, 1, 0, 1], dtype=int8)"
      ]
     },
     "execution_count": 69,
     "metadata": {},
     "output_type": "execute_result"
    }
   ],
   "source": [
    "array[::2] = 0  #brradcast (perchè lo zero viene messo in tutte le celle individuate dallo slicing)\n",
    "array"
   ]
  },
  {
   "cell_type": "markdown",
   "id": "87d2e4c1-2b0b-44ce-b781-cd4d953ba265",
   "metadata": {},
   "source": [
    "**Gli array di numPy si comportano come i vettori della matematica**"
   ]
  },
  {
   "cell_type": "code",
   "execution_count": 72,
   "id": "f9af6f2e-a99d-455c-8641-f196fa642854",
   "metadata": {},
   "outputs": [
    {
     "data": {
      "text/plain": [
       "array([3., 5.])"
      ]
     },
     "execution_count": 72,
     "metadata": {},
     "output_type": "execute_result"
    }
   ],
   "source": [
    "punto = np.array([3., 5.])\n",
    "punto"
   ]
  },
  {
   "cell_type": "code",
   "execution_count": 74,
   "id": "45cc16f0-1d3e-42ee-bac1-ddced507a2c6",
   "metadata": {},
   "outputs": [
    {
     "data": {
      "text/plain": [
       "array([4., 5.])"
      ]
     },
     "execution_count": 74,
     "metadata": {},
     "output_type": "execute_result"
    }
   ],
   "source": [
    "spostamento = np.array([1., 0])\n",
    "punto + spostamento  #fa la somma dei 2 array posizione per posizione"
   ]
  },
  {
   "cell_type": "code",
   "execution_count": 76,
   "id": "7e973f4e-5613-4827-89bc-778dbc757700",
   "metadata": {},
   "outputs": [
    {
     "data": {
      "text/plain": [
       "[3.0, 5.0, 1.0, 0]"
      ]
     },
     "execution_count": 76,
     "metadata": {},
     "output_type": "execute_result"
    }
   ],
   "source": [
    "[3., 5.] + [1., 0] #somma tra liste = concatenamento, mentre array + array = somma tra elementi della stessa posizione (somma vettoriale)"
   ]
  },
  {
   "cell_type": "code",
   "execution_count": 78,
   "id": "59cd8238-774b-460a-bc12-21a76e08f547",
   "metadata": {},
   "outputs": [
    {
     "data": {
      "text/plain": [
       "array([4., 5.])"
      ]
     },
     "execution_count": 78,
     "metadata": {},
     "output_type": "execute_result"
    }
   ],
   "source": [
    "nuovaPosizione = punto + spostamento \n",
    "nuovaPosizione"
   ]
  },
  {
   "cell_type": "code",
   "execution_count": 80,
   "id": "5bc75e48-0924-47de-bf70-048b9fa2d40a",
   "metadata": {},
   "outputs": [
    {
     "data": {
      "text/plain": [
       "array([20., 25.])"
      ]
     },
     "execution_count": 80,
     "metadata": {},
     "output_type": "execute_result"
    }
   ],
   "source": [
    "nuovaPosizione * 5 #all'arrray da cui è composto nuova posizione moltiplica tutti gli elementi per 5"
   ]
  },
  {
   "cell_type": "code",
   "execution_count": 82,
   "id": "a4fdf807-d0d0-4fcb-a376-f4ccf7e5cdd1",
   "metadata": {},
   "outputs": [
    {
     "data": {
      "text/plain": [
       "[4, 5, 4, 5, 4, 5, 4, 5, 4, 5]"
      ]
     },
     "execution_count": 82,
     "metadata": {},
     "output_type": "execute_result"
    }
   ],
   "source": [
    "[4,5]*5 #ripete la sequnza 4,5 per 5 volte"
   ]
  },
  {
   "cell_type": "code",
   "execution_count": 84,
   "id": "0e86742f-bde5-4b81-8934-b5f5595d0ade",
   "metadata": {},
   "outputs": [
    {
     "data": {
      "text/plain": [
       "array([12, 11, 10,  9,  8,  7,  6,  5])"
      ]
     },
     "execution_count": 84,
     "metadata": {},
     "output_type": "execute_result"
    }
   ],
   "source": [
    "#un'altro modo di creare array\n",
    "array = np.arange(4,12)  #crea un array da 4 a 12-1\n",
    "array = np.arange(12,4, - 1) #crea un array da 12 a 4+1 \n",
    "array"
   ]
  },
  {
   "cell_type": "code",
   "execution_count": 112,
   "id": "fdbf0b5d-1347-423b-bf9e-c1aa644d2dd1",
   "metadata": {},
   "outputs": [
    {
     "data": {
      "text/plain": [
       "array([ 0. ,  0.5,  1. ,  1.5,  2. ,  2.5,  3. ,  3.5,  4. ,  4.5,  5. ,\n",
       "        5.5,  6. ,  6.5,  7. ,  7.5,  8. ,  8.5,  9. ,  9.5, 10. ])"
      ]
     },
     "execution_count": 112,
     "metadata": {},
     "output_type": "execute_result"
    }
   ],
   "source": [
    "array = np.linspace(0. ,10. , 21) #(genera 21 numri nell intervallo 0 - 10)\n",
    "array"
   ]
  },
  {
   "cell_type": "code",
   "execution_count": 105,
   "id": "967df3d5-a987-4e7c-a476-fb2dfb05f883",
   "metadata": {},
   "outputs": [],
   "source": [
    "x = np.linspace(0., 2*np.pi, 1000)\n",
    "y = np.sin(x)"
   ]
  },
  {
   "cell_type": "code",
   "execution_count": 107,
   "id": "bcc164e2-751a-4c25-a665-522a1390d67f",
   "metadata": {},
   "outputs": [
    {
     "data": {
      "text/plain": [
       "[<matplotlib.lines.Line2D at 0x16cb466e3f0>]"
      ]
     },
     "execution_count": 107,
     "metadata": {},
     "output_type": "execute_result"
    },
    {
     "data": {
      "image/png": "[encoded data removed]",
      "text/plain": [
       "<Figure size 640x480 with 1 Axes>"
      ]
     },
     "metadata": {},
     "output_type": "display_data"
    }
   ],
   "source": [
    "plt.plot(x,y)"
   ]
  },
  {
   "cell_type": "markdown",
   "id": "8d57c7a9-63f5-41b7-9ede-d0164dee2fed",
   "metadata": {},
   "source": [
    "**Generazione array pdeuso casuale**"
   ]
  },
  {
   "cell_type": "code",
   "execution_count": 122,
   "id": "588b0b8b-f215-410f-a09e-cad38cc229df",
   "metadata": {},
   "outputs": [
    {
     "data": {
      "text/plain": [
       "array([2, 4, 1, 1, 3, 5, 6, 4, 4, 6, 5, 4])"
      ]
     },
     "execution_count": 122,
     "metadata": {},
     "output_type": "execute_result"
    }
   ],
   "source": [
    "#interi\n",
    "np.random.randint(1,7, 12) #12 estrazioni intere da 1 a o 7 escluso"
   ]
  },
  {
   "cell_type": "markdown",
   "id": "9aad9c66-e3e8-4e93-9fc1-7bae2a444665",
   "metadata": {},
   "source": [
    "ESERCIZIO: simula una partita a dadi con n lanci tra alice e bob"
   ]
  },
  {
   "cell_type": "code",
   "execution_count": 126,
   "id": "4682cbb3-7479-4458-9c37-3647cc95b829",
   "metadata": {},
   "outputs": [],
   "source": [
    "n = 10\n",
    "alice = np.random.randint(1,7, n) \n",
    "bob = np.random.randint(1,7, n) "
   ]
  },
  {
   "cell_type": "code",
   "execution_count": 130,
   "id": "2c78521a-6aa9-43b9-aeb1-a961521c8269",
   "metadata": {},
   "outputs": [
    {
     "name": "stdout",
     "output_type": "stream",
     "text": [
      "Lanci di alice: [3 2 1 6 1 3 2 4 1 1]\n",
      "Lanci di bob: [2 4 6 4 4 3 6 6 3 2]\n"
     ]
    }
   ],
   "source": [
    "print(f\"Lanci di alice: {alice}\")\n",
    "print(f\"Lanci di bob: {bob}\")"
   ]
  },
  {
   "cell_type": "markdown",
   "id": "2a4d36d0-e3ad-4f3d-9691-f94a944cd04b",
   "metadata": {},
   "source": [
    "Qunate volte vince Alice ? "
   ]
  },
  {
   "cell_type": "code",
   "execution_count": 143,
   "id": "b6c13e03-aac6-43db-b762-50622f51e0ef",
   "metadata": {},
   "outputs": [
    {
     "data": {
      "text/plain": [
       "dtype('bool')"
      ]
     },
     "execution_count": 143,
     "metadata": {},
     "output_type": "execute_result"
    }
   ],
   "source": [
    "alice_vince = alice > bob  #restituisce quando alice fa un punteggio maggiore di bob, #solo se ce lo stesso numero di lanci\n",
    "alice_vince.dtype"
   ]
  },
  {
   "cell_type": "code",
   "execution_count": 147,
   "id": "28fe3764-5d7c-4b99-9780-2579a7a7b239",
   "metadata": {},
   "outputs": [
    {
     "data": {
      "text/plain": [
       "2"
      ]
     },
     "execution_count": 147,
     "metadata": {},
     "output_type": "execute_result"
    }
   ],
   "source": [
    "np.count_nonzero(alice_vince) #nonzero vuol dire conta i valori che non sono zero, quindi gli 1 che sono corrispondenti ai TRUE"
   ]
  },
  {
   "cell_type": "markdown",
   "id": "002be30e-e76d-4e27-a8d6-5f42c13fbaa1",
   "metadata": {},
   "source": [
    "Quali sono i punteggi di alice quando vince ? "
   ]
  },
  {
   "cell_type": "code",
   "execution_count": 154,
   "id": "21d3bdff-bd6f-456e-a131-d54f52e61e1e",
   "metadata": {},
   "outputs": [
    {
     "data": {
      "text/plain": [
       "array([3, 6])"
      ]
     },
     "execution_count": 154,
     "metadata": {},
     "output_type": "execute_result"
    }
   ],
   "source": [
    "alice[alice_vince] #indicizzazione booleana, prende nell'array di alice solo i valori corrispondenti a TRUE"
   ]
  },
  {
   "cell_type": "markdown",
   "id": "abcd66b0-00df-4a4b-9332-4a2444f02a07",
   "metadata": {},
   "source": [
    "Bob è disonesto: quando perde manomette il suo punteggio portandolo a 6. manomettere l'array dei punteggi di bob (solo quando perde)"
   ]
  },
  {
   "cell_type": "code",
   "execution_count": 158,
   "id": "fa79f48d-dbcb-48af-98eb-104647dba583",
   "metadata": {},
   "outputs": [
    {
     "data": {
      "text/plain": [
       "array([ True, False, False,  True, False, False, False, False, False,\n",
       "       False])"
      ]
     },
     "execution_count": 158,
     "metadata": {},
     "output_type": "execute_result"
    }
   ],
   "source": [
    "bob_perde = bob < alice\n",
    "bob_perde"
   ]
  },
  {
   "cell_type": "code",
   "execution_count": 162,
   "id": "668d2464-3f57-4dc9-af3d-a0b42bd9f341",
   "metadata": {},
   "outputs": [
    {
     "data": {
      "text/plain": [
       "array([6, 4, 6, 6, 4, 3, 6, 6, 3, 2])"
      ]
     },
     "execution_count": 162,
     "metadata": {},
     "output_type": "execute_result"
    }
   ],
   "source": [
    "bob[bob_perde] = 6\n",
    "bob"
   ]
  },
  {
   "cell_type": "markdown",
   "id": "327ab5f8-1c7a-45da-b6e7-38fde4afc167",
   "metadata": {},
   "source": [
    "**ARRAY 2D**"
   ]
  },
  {
   "cell_type": "code",
   "execution_count": 206,
   "id": "59212765-4cd8-4e6a-b3ef-47b469d567a9",
   "metadata": {},
   "outputs": [
    {
     "data": {
      "text/plain": [
       "array([[0. , 0. , 0. , 0. , 0. , 0. , 0. , 0. , 0. , 0. ],\n",
       "       [0. , 0. , 0. , 0. , 0. , 0. , 0. , 0. , 0. , 0. ],\n",
       "       [0. , 0. , 0. , 0. , 0. , 0. , 0. , 0. , 0. , 0. ],\n",
       "       [0. , 0. , 0. , 0. , 0. , 0. , 0. , 0. , 0. , 0. ],\n",
       "       [0. , 0. , 0. , 0. , 0. , 1. , 0. , 0. , 0. , 0. ],\n",
       "       [0. , 0. , 0. , 0. , 0. , 0. , 0. , 0. , 0. , 0. ],\n",
       "       [0. , 0. , 0. , 0. , 0. , 0. , 0. , 0. , 0. , 0. ],\n",
       "       [0. , 0. , 0.5, 0. , 0. , 0. , 0. , 0. , 0. , 0. ],\n",
       "       [0. , 0. , 0. , 0. , 0. , 0. , 0. , 0. , 0. , 0. ],\n",
       "       [0. , 0. , 0. , 0. , 0. , 0. , 0. , 0. , 0. , 0. ]])"
      ]
     },
     "execution_count": 206,
     "metadata": {},
     "output_type": "execute_result"
    }
   ],
   "source": [
    "array2d = np.zeros((10, 10)) #matrice 10 x 10\n",
    "array2d[4,5] = 1  #coordinate per inserire un numero, il primo valore la riga, il secondo la colonna\n",
    "array2d[7,2] = 0.5\n",
    "array2d"
   ]
  },
  {
   "cell_type": "code",
   "execution_count": 208,
   "id": "367594fc-6d69-4c70-84ab-1b6dcfb09ff5",
   "metadata": {},
   "outputs": [
    {
     "data": {
      "text/plain": [
       "<matplotlib.image.AxesImage at 0x16cbc8a7e30>"
      ]
     },
     "execution_count": 208,
     "metadata": {},
     "output_type": "execute_result"
    },
    {
     "data": {
      "image/png": "[encoded data removed]",
      "text/plain": [
       "<Figure size 640x480 with 1 Axes>"
      ]
     },
     "metadata": {},
     "output_type": "display_data"
    }
   ],
   "source": [
    "plt.imshow(array2d, cmap = 'Greys') #visualizza la matrice in scale di grigi, cmap = metto la scala di colore che voglio"
   ]
  },
  {
   "cell_type": "markdown",
   "id": "59ae86f3-e062-4720-a2de-80da85c4e5b6",
   "metadata": {},
   "source": [
    "FARE STRISCIE BIANCHE E NERE"
   ]
  },
  {
   "cell_type": "code",
   "execution_count": 257,
   "id": "fdd2c6c0-82ea-4eaa-a534-3848c59e1765",
   "metadata": {},
   "outputs": [
    {
     "data": {
      "text/plain": [
       "<matplotlib.image.AxesImage at 0x16cbcb25fa0>"
      ]
     },
     "execution_count": 257,
     "metadata": {},
     "output_type": "execute_result"
    },
    {
     "data": {
      "image/png": "[encoded data removed]",
      "text/plain": [
       "<Figure size 640x480 with 1 Axes>"
      ]
     },
     "metadata": {},
     "output_type": "display_data"
    }
   ],
   "source": [
    "arrayBianco_nero = np.zeros((10, 10))\n",
    "arrayBianco_nero[1::2] = 1\n",
    "plt.imshow(arrayBianco_nero, cmap = 'Greys')"
   ]
  },
  {
   "cell_type": "code",
   "execution_count": null,
   "id": "2442a6f9-ed8d-40fa-8259-2254ccb93331",
   "metadata": {},
   "outputs": [],
   "source": []
  }
 ],
 "metadata": {
  "kernelspec": {
   "display_name": "Python 3 (ipykernel)",
   "language": "python",
   "name": "python3"
  },
  "language_info": {
   "codemirror_mode": {
    "name": "ipython",
    "version": 3
   },
   "file_extension": ".py",
   "mimetype": "text/x-python",
   "name": "python",
   "nbconvert_exporter": "python",
   "pygments_lexer": "ipython3",
   "version": "3.12.4"
  }
 },
 "nbformat": 4,
 "nbformat_minor": 5
}
