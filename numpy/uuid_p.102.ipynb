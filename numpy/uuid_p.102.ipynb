{
 "cells": [
  {
   "cell_type": "markdown",
   "metadata": {},
   "source": [
    "I comandi magici sono comandi speciali implementati dal kernel IPython che realizzano funzioni standard e in molti casi, utili al programmatore. Ci sono comandi magici che operano su una singola linea di codice: questi hanno un nome che inizia con il carattere %. Ci sono poi comandi magici che iniziano con %%: essi operano su di una intera cella. La scelta di utilizzare i caratteri % e %% è dovuta al fatto che in Python non esistono gli operatori unari % e %%"
   ]
  },
  {
   "cell_type": "code",
   "execution_count": 1,
   "metadata": {},
   "outputs": [],
   "source": [
    "import numpy as np\n",
    "import matplotlib.pyplot as plt\n",
    "import uuid"
   ]
  },
  {
   "cell_type": "code",
   "execution_count": null,
   "metadata": {},
   "outputs": [],
   "source": []
  }
 ],
 "metadata": {
  "kernelspec": {
   "display_name": "base",
   "language": "python",
   "name": "python3"
  },
  "language_info": {
   "codemirror_mode": {
    "name": "ipython",
    "version": 3
   },
   "file_extension": ".py",
   "mimetype": "text/x-python",
   "name": "python",
   "nbconvert_exporter": "python",
   "pygments_lexer": "ipython3",
   "version": "3.12.4"
  }
 },
 "nbformat": 4,
 "nbformat_minor": 2
}
